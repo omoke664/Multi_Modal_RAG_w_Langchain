{
 "cells": [
  {
   "cell_type": "code",
   "execution_count": 1,
   "metadata": {},
   "outputs": [
    {
     "data": {
      "text/plain": [
       "True"
      ]
     },
     "execution_count": 1,
     "metadata": {},
     "output_type": "execute_result"
    }
   ],
   "source": [
    "from dotenv import load_dotenv\n",
    "load_dotenv()"
   ]
  },
  {
   "cell_type": "markdown",
   "metadata": {},
   "source": [
    "# Extract the data"
   ]
  },
  {
   "cell_type": "code",
   "execution_count": null,
   "metadata": {},
   "outputs": [
    {
     "data": {
      "application/vnd.jupyter.widget-view+json": {
       "model_id": "d3bb1516e20741209513849698b28148",
       "version_major": 2,
       "version_minor": 0
      },
      "text/plain": [
       "yolox_l0.05.onnx:   0%|          | 0.00/217M [00:00<?, ?B/s]"
      ]
     },
     "metadata": {},
     "output_type": "display_data"
    }
   ],
   "source": [
    "from unstructured.partition.pdf import partition_pdf\n",
    "\n",
    "output_path = \"./content/\"\n",
    "file_path = output_path + 'MachineLearningFundamentals.pdf'\n",
    "\n",
    "\n",
    "#reference: https://docs.unstructured.io/open-source/core-functionality/chunking\n",
    "\n",
    "chunks = partition_pdf(\n",
    "    flinename = file_path,\n",
    "    infer_table_structure= True,       #extract tables\n",
    "    strategy= \"hi_res\",     #mandatory to infer tables\n",
    "\n",
    "    extract_image_block_types=[\"Image\"],        #Add 'Table' to list to extract images of tables\n",
    "    #image output_dir_path = output_path,       #if None, images and tables will be saved in base64\n",
    "\n",
    "    extract_image_block_to_payload=True,        #if True, will extract base64 for API usage\n",
    "\n",
    "    chunking_strategy=\"by_title\",       #or 'basic' \n",
    "    max_characters = 10000,             #default to 500\n",
    "    combine_text_under_n_chars = 2000,  #defaults to 0\n",
    "    new_after_n_chars = 6000,\n",
    "\n",
    "\n",
    "    #extract_images_in_pdf = True,      #depracated\n",
    ")"
   ]
  },
  {
   "cell_type": "code",
   "execution_count": null,
   "metadata": {},
   "outputs": [],
   "source": []
  }
 ],
 "metadata": {
  "kernelspec": {
   "display_name": "env1",
   "language": "python",
   "name": "myenv"
  },
  "language_info": {
   "codemirror_mode": {
    "name": "ipython",
    "version": 3
   },
   "file_extension": ".py",
   "mimetype": "text/x-python",
   "name": "python",
   "nbconvert_exporter": "python",
   "pygments_lexer": "ipython3",
   "version": "3.12.5"
  }
 },
 "nbformat": 4,
 "nbformat_minor": 2
}
